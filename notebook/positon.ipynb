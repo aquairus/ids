{
 "cells": [
  {
   "cell_type": "code",
   "execution_count": 3,
   "metadata": {
    "collapsed": false
   },
   "outputs": [
    {
     "name": "stdout",
     "output_type": "stream",
     "text": [
      "Populating the interactive namespace from numpy and matplotlib\n"
     ]
    }
   ],
   "source": [
    "%pylab inline\n",
    "\n",
    "\n",
    "import pandas as pd\n",
    "import numpy as np\n",
    "import matplotlib.pyplot as plt\n",
    "import json \n",
    "\n",
    "from datetime import date\n",
    "import datetime\n",
    "import time\n",
    "\n",
    "%run moudle/process_position\n",
    "%run moudle/vectorize\n",
    "\n",
    "import seaborn as sns\n",
    "sns.set_palette('deep', desat=.6)\n",
    "sns.set_context(rc={'figure.figsize': (8, 5) } )"
   ]
  },
  {
   "cell_type": "markdown",
   "metadata": {},
   "source": [
    "read from applications.json"
   ]
  },
  {
   "cell_type": "code",
   "execution_count": 4,
   "metadata": {
    "collapsed": false
   },
   "outputs": [],
   "source": [
    "src_data=open(\"data/position.txt\")\n",
    "corpus=src_data.read().split('\\n')"
   ]
  },
  {
   "cell_type": "code",
   "execution_count": 5,
   "metadata": {
    "collapsed": false,
    "scrolled": false
   },
   "outputs": [],
   "source": [
    "raw_department=[]\n",
    "position_num=-1\n",
    "position_list=[]            \n",
    "for item in corpus[:position_num]:\n",
    "    position=position_vec_all(item)\n",
    "    if position:\n",
    "        position_list.append(position)\n",
    "        raw_department.append(position[7])\n"
   ]
  },
  {
   "cell_type": "code",
   "execution_count": 27,
   "metadata": {
    "collapsed": false
   },
   "outputs": [
    {
     "data": {
      "text/html": [
       "<div>\n",
       "<table border=\"1\" class=\"dataframe\">\n",
       "  <thead>\n",
       "    <tr style=\"text-align: right;\">\n",
       "      <th></th>\n",
       "      <th>0</th>\n",
       "      <th>1</th>\n",
       "      <th>2</th>\n",
       "      <th>3</th>\n",
       "      <th>4</th>\n",
       "      <th>5</th>\n",
       "      <th>6</th>\n",
       "      <th>7</th>\n",
       "      <th>8</th>\n",
       "    </tr>\n",
       "  </thead>\n",
       "  <tbody>\n",
       "    <tr>\n",
       "      <th>0</th>\n",
       "      <td>564ec46632d2e40928c86404</td>\n",
       "      <td>销</td>\n",
       "      <td>财富管理</td>\n",
       "      <td>1、有销售推广工作经验或呼叫中心工作经验者佳,年龄（20-35岁之间）\\n2、标准普通话，善...</td>\n",
       "      <td>1、有销售推广工作经验或呼叫中心工作经验者佳,年龄（20-35岁之间）\\n2、标准普通话，善...</td>\n",
       "      <td>全职</td>\n",
       "      <td>电话销售</td>\n",
       "      <td>销售</td>\n",
       "      <td>销售部</td>\n",
       "    </tr>\n",
       "    <tr>\n",
       "      <th>1</th>\n",
       "      <td>564ec46632d2e40928c86405</td>\n",
       "      <td>other</td>\n",
       "      <td>财富管理</td>\n",
       "      <td>1、协助部门做好证券类及其他项目相关工作；　　\\n2、负责文书工作，包括各类文件的起草、打印...</td>\n",
       "      <td>1、研究生在校生；\\n2、了解证券市场基础知识，对金融行业有一定认识；\\n2、 熟练操作电脑...</td>\n",
       "      <td>实习</td>\n",
       "      <td>实习生</td>\n",
       "      <td>信托</td>\n",
       "      <td>信托业务二部</td>\n",
       "    </tr>\n",
       "    <tr>\n",
       "      <th>31386</th>\n",
       "      <td>57330da2e5bafe0001000007</td>\n",
       "      <td>credit</td>\n",
       "      <td>互联网金融</td>\n",
       "      <td>Corporate strategic summer intern program(MBA)...</td>\n",
       "      <td>1.We expect students to have experience in mic...</td>\n",
       "      <td>实习</td>\n",
       "      <td>宜信公司-实习生</td>\n",
       "      <td>other</td>\n",
       "      <td>宜信公司</td>\n",
       "    </tr>\n",
       "    <tr>\n",
       "      <th>31387</th>\n",
       "      <td>57330dfc8768080001000004</td>\n",
       "      <td>media</td>\n",
       "      <td>互联网金融</td>\n",
       "      <td>1、参与策划A股相关热门选题，并跟踪挖掘外部优质内容，参与热门内容传播； \\r\\n2、维护追...</td>\n",
       "      <td>1、新闻、财经相关背景，有A股投资经验，经常浏览财经网站及社区者优先； \\r\\n2、有话题敏...</td>\n",
       "      <td>实习</td>\n",
       "      <td>A股内容运营实习生-华尔街见闻</td>\n",
       "      <td>other</td>\n",
       "      <td>华尔街见闻</td>\n",
       "    </tr>\n",
       "  </tbody>\n",
       "</table>\n",
       "</div>"
      ],
      "text/plain": [
       "                              0       1      2  \\\n",
       "0      564ec46632d2e40928c86404       销   财富管理   \n",
       "1      564ec46632d2e40928c86405   other   财富管理   \n",
       "31386  57330da2e5bafe0001000007  credit  互联网金融   \n",
       "31387  57330dfc8768080001000004   media  互联网金融   \n",
       "\n",
       "                                                       3  \\\n",
       "0      1、有销售推广工作经验或呼叫中心工作经验者佳,年龄（20-35岁之间）\\n2、标准普通话，善...   \n",
       "1      1、协助部门做好证券类及其他项目相关工作；　　\\n2、负责文书工作，包括各类文件的起草、打印...   \n",
       "31386  Corporate strategic summer intern program(MBA)...   \n",
       "31387  1、参与策划A股相关热门选题，并跟踪挖掘外部优质内容，参与热门内容传播； \\r\\n2、维护追...   \n",
       "\n",
       "                                                       4   5                6  \\\n",
       "0      1、有销售推广工作经验或呼叫中心工作经验者佳,年龄（20-35岁之间）\\n2、标准普通话，善...  全职             电话销售   \n",
       "1      1、研究生在校生；\\n2、了解证券市场基础知识，对金融行业有一定认识；\\n2、 熟练操作电脑...  实习              实习生   \n",
       "31386  1.We expect students to have experience in mic...  实习         宜信公司-实习生   \n",
       "31387  1、新闻、财经相关背景，有A股投资经验，经常浏览财经网站及社区者优先； \\r\\n2、有话题敏...  实习  A股内容运营实习生-华尔街见闻   \n",
       "\n",
       "           7       8  \n",
       "0         销售     销售部  \n",
       "1         信托  信托业务二部  \n",
       "31386  other    宜信公司  \n",
       "31387  other   华尔街见闻  "
      ]
     },
     "execution_count": 27,
     "metadata": {},
     "output_type": "execute_result"
    }
   ],
   "source": [
    "# podf=pd.DataFrame(position_list)[:2]   \n",
    "podf1_=pd.DataFrame(position_list)[:2]   \n",
    "podf2_=pd.DataFrame(position_list)[-2:]   \n",
    "pd.concat([podf1_,podf2_])\n",
    "podf2_.to_excel"
   ]
  },
  {
   "cell_type": "code",
   "execution_count": 164,
   "metadata": {
    "collapsed": false
   },
   "outputs": [],
   "source": [
    "\n",
    "job_df=pd.DataFrame(raw_department)   \n",
    "job_df[1]=1\n",
    "# podf"
   ]
  },
  {
   "cell_type": "code",
   "execution_count": 150,
   "metadata": {
    "collapsed": false
   },
   "outputs": [
    {
     "ename": "KeyError",
     "evalue": "0",
     "output_type": "error",
     "traceback": [
      "\u001b[0;31m---------------------------------------------------------------------------\u001b[0m",
      "\u001b[0;31mKeyError\u001b[0m                                  Traceback (most recent call last)",
      "\u001b[0;32m<ipython-input-150-dd7a7b6850f4>\u001b[0m in \u001b[0;36m<module>\u001b[0;34m()\u001b[0m\n\u001b[1;32m      1\u001b[0m \u001b[0;31m# d=\u001b[0m\u001b[0;34m\u001b[0m\u001b[0;34m\u001b[0m\u001b[0m\n\u001b[0;32m----> 2\u001b[0;31m \u001b[0mjob_df\u001b[0m\u001b[0;34m.\u001b[0m\u001b[0mgroupby\u001b[0m\u001b[0;34m(\u001b[0m\u001b[0mjob_df\u001b[0m\u001b[0;34m[\u001b[0m\u001b[0;36m0\u001b[0m\u001b[0;34m]\u001b[0m\u001b[0;34m)\u001b[0m\u001b[0;34m\u001b[0m\u001b[0m\n\u001b[0m\u001b[1;32m      3\u001b[0m \u001b[0;31m# for i,j in enumerate(raw_department):\u001b[0m\u001b[0;34m\u001b[0m\u001b[0;34m\u001b[0m\u001b[0m\n\u001b[1;32m      4\u001b[0m \u001b[0;31m#     string+=\"u\\\"\"+j+\"\\\":\"+str(i)+','\u001b[0m\u001b[0;34m\u001b[0m\u001b[0;34m\u001b[0m\u001b[0m\n\u001b[1;32m      5\u001b[0m \u001b[0;31m# print string\u001b[0m\u001b[0;34m\u001b[0m\u001b[0;34m\u001b[0m\u001b[0m\n",
      "\u001b[0;32m/usr/local/lib/python2.7/site-packages/pandas/core/frame.pyc\u001b[0m in \u001b[0;36m__getitem__\u001b[0;34m(self, key)\u001b[0m\n\u001b[1;32m   1967\u001b[0m             \u001b[0;32mreturn\u001b[0m \u001b[0mself\u001b[0m\u001b[0;34m.\u001b[0m\u001b[0m_getitem_multilevel\u001b[0m\u001b[0;34m(\u001b[0m\u001b[0mkey\u001b[0m\u001b[0;34m)\u001b[0m\u001b[0;34m\u001b[0m\u001b[0m\n\u001b[1;32m   1968\u001b[0m         \u001b[0;32melse\u001b[0m\u001b[0;34m:\u001b[0m\u001b[0;34m\u001b[0m\u001b[0m\n\u001b[0;32m-> 1969\u001b[0;31m             \u001b[0;32mreturn\u001b[0m \u001b[0mself\u001b[0m\u001b[0;34m.\u001b[0m\u001b[0m_getitem_column\u001b[0m\u001b[0;34m(\u001b[0m\u001b[0mkey\u001b[0m\u001b[0;34m)\u001b[0m\u001b[0;34m\u001b[0m\u001b[0m\n\u001b[0m\u001b[1;32m   1970\u001b[0m \u001b[0;34m\u001b[0m\u001b[0m\n\u001b[1;32m   1971\u001b[0m     \u001b[0;32mdef\u001b[0m \u001b[0m_getitem_column\u001b[0m\u001b[0;34m(\u001b[0m\u001b[0mself\u001b[0m\u001b[0;34m,\u001b[0m \u001b[0mkey\u001b[0m\u001b[0;34m)\u001b[0m\u001b[0;34m:\u001b[0m\u001b[0;34m\u001b[0m\u001b[0m\n",
      "\u001b[0;32m/usr/local/lib/python2.7/site-packages/pandas/core/frame.pyc\u001b[0m in \u001b[0;36m_getitem_column\u001b[0;34m(self, key)\u001b[0m\n\u001b[1;32m   1974\u001b[0m         \u001b[0;31m# get column\u001b[0m\u001b[0;34m\u001b[0m\u001b[0;34m\u001b[0m\u001b[0m\n\u001b[1;32m   1975\u001b[0m         \u001b[0;32mif\u001b[0m \u001b[0mself\u001b[0m\u001b[0;34m.\u001b[0m\u001b[0mcolumns\u001b[0m\u001b[0;34m.\u001b[0m\u001b[0mis_unique\u001b[0m\u001b[0;34m:\u001b[0m\u001b[0;34m\u001b[0m\u001b[0m\n\u001b[0;32m-> 1976\u001b[0;31m             \u001b[0;32mreturn\u001b[0m \u001b[0mself\u001b[0m\u001b[0;34m.\u001b[0m\u001b[0m_get_item_cache\u001b[0m\u001b[0;34m(\u001b[0m\u001b[0mkey\u001b[0m\u001b[0;34m)\u001b[0m\u001b[0;34m\u001b[0m\u001b[0m\n\u001b[0m\u001b[1;32m   1977\u001b[0m \u001b[0;34m\u001b[0m\u001b[0m\n\u001b[1;32m   1978\u001b[0m         \u001b[0;31m# duplicate columns & possible reduce dimensionality\u001b[0m\u001b[0;34m\u001b[0m\u001b[0;34m\u001b[0m\u001b[0m\n",
      "\u001b[0;32m/usr/local/lib/python2.7/site-packages/pandas/core/generic.pyc\u001b[0m in \u001b[0;36m_get_item_cache\u001b[0;34m(self, item)\u001b[0m\n\u001b[1;32m   1089\u001b[0m         \u001b[0mres\u001b[0m \u001b[0;34m=\u001b[0m \u001b[0mcache\u001b[0m\u001b[0;34m.\u001b[0m\u001b[0mget\u001b[0m\u001b[0;34m(\u001b[0m\u001b[0mitem\u001b[0m\u001b[0;34m)\u001b[0m\u001b[0;34m\u001b[0m\u001b[0m\n\u001b[1;32m   1090\u001b[0m         \u001b[0;32mif\u001b[0m \u001b[0mres\u001b[0m \u001b[0;32mis\u001b[0m \u001b[0mNone\u001b[0m\u001b[0;34m:\u001b[0m\u001b[0;34m\u001b[0m\u001b[0m\n\u001b[0;32m-> 1091\u001b[0;31m             \u001b[0mvalues\u001b[0m \u001b[0;34m=\u001b[0m \u001b[0mself\u001b[0m\u001b[0;34m.\u001b[0m\u001b[0m_data\u001b[0m\u001b[0;34m.\u001b[0m\u001b[0mget\u001b[0m\u001b[0;34m(\u001b[0m\u001b[0mitem\u001b[0m\u001b[0;34m)\u001b[0m\u001b[0;34m\u001b[0m\u001b[0m\n\u001b[0m\u001b[1;32m   1092\u001b[0m             \u001b[0mres\u001b[0m \u001b[0;34m=\u001b[0m \u001b[0mself\u001b[0m\u001b[0;34m.\u001b[0m\u001b[0m_box_item_values\u001b[0m\u001b[0;34m(\u001b[0m\u001b[0mitem\u001b[0m\u001b[0;34m,\u001b[0m \u001b[0mvalues\u001b[0m\u001b[0;34m)\u001b[0m\u001b[0;34m\u001b[0m\u001b[0m\n\u001b[1;32m   1093\u001b[0m             \u001b[0mcache\u001b[0m\u001b[0;34m[\u001b[0m\u001b[0mitem\u001b[0m\u001b[0;34m]\u001b[0m \u001b[0;34m=\u001b[0m \u001b[0mres\u001b[0m\u001b[0;34m\u001b[0m\u001b[0m\n",
      "\u001b[0;32m/usr/local/lib/python2.7/site-packages/pandas/core/internals.pyc\u001b[0m in \u001b[0;36mget\u001b[0;34m(self, item, fastpath)\u001b[0m\n\u001b[1;32m   3209\u001b[0m \u001b[0;34m\u001b[0m\u001b[0m\n\u001b[1;32m   3210\u001b[0m             \u001b[0;32mif\u001b[0m \u001b[0;32mnot\u001b[0m \u001b[0misnull\u001b[0m\u001b[0;34m(\u001b[0m\u001b[0mitem\u001b[0m\u001b[0;34m)\u001b[0m\u001b[0;34m:\u001b[0m\u001b[0;34m\u001b[0m\u001b[0m\n\u001b[0;32m-> 3211\u001b[0;31m                 \u001b[0mloc\u001b[0m \u001b[0;34m=\u001b[0m \u001b[0mself\u001b[0m\u001b[0;34m.\u001b[0m\u001b[0mitems\u001b[0m\u001b[0;34m.\u001b[0m\u001b[0mget_loc\u001b[0m\u001b[0;34m(\u001b[0m\u001b[0mitem\u001b[0m\u001b[0;34m)\u001b[0m\u001b[0;34m\u001b[0m\u001b[0m\n\u001b[0m\u001b[1;32m   3212\u001b[0m             \u001b[0;32melse\u001b[0m\u001b[0;34m:\u001b[0m\u001b[0;34m\u001b[0m\u001b[0m\n\u001b[1;32m   3213\u001b[0m                 \u001b[0mindexer\u001b[0m \u001b[0;34m=\u001b[0m \u001b[0mnp\u001b[0m\u001b[0;34m.\u001b[0m\u001b[0marange\u001b[0m\u001b[0;34m(\u001b[0m\u001b[0mlen\u001b[0m\u001b[0;34m(\u001b[0m\u001b[0mself\u001b[0m\u001b[0;34m.\u001b[0m\u001b[0mitems\u001b[0m\u001b[0;34m)\u001b[0m\u001b[0;34m)\u001b[0m\u001b[0;34m[\u001b[0m\u001b[0misnull\u001b[0m\u001b[0;34m(\u001b[0m\u001b[0mself\u001b[0m\u001b[0;34m.\u001b[0m\u001b[0mitems\u001b[0m\u001b[0;34m)\u001b[0m\u001b[0;34m]\u001b[0m\u001b[0;34m\u001b[0m\u001b[0m\n",
      "\u001b[0;32m/usr/local/lib/python2.7/site-packages/pandas/core/index.pyc\u001b[0m in \u001b[0;36mget_loc\u001b[0;34m(self, key, method, tolerance)\u001b[0m\n\u001b[1;32m   1757\u001b[0m                                  'backfill or nearest lookups')\n\u001b[1;32m   1758\u001b[0m             \u001b[0mkey\u001b[0m \u001b[0;34m=\u001b[0m \u001b[0m_values_from_object\u001b[0m\u001b[0;34m(\u001b[0m\u001b[0mkey\u001b[0m\u001b[0;34m)\u001b[0m\u001b[0;34m\u001b[0m\u001b[0m\n\u001b[0;32m-> 1759\u001b[0;31m             \u001b[0;32mreturn\u001b[0m \u001b[0mself\u001b[0m\u001b[0;34m.\u001b[0m\u001b[0m_engine\u001b[0m\u001b[0;34m.\u001b[0m\u001b[0mget_loc\u001b[0m\u001b[0;34m(\u001b[0m\u001b[0mkey\u001b[0m\u001b[0;34m)\u001b[0m\u001b[0;34m\u001b[0m\u001b[0m\n\u001b[0m\u001b[1;32m   1760\u001b[0m \u001b[0;34m\u001b[0m\u001b[0m\n\u001b[1;32m   1761\u001b[0m         indexer = self.get_indexer([key], method=method,\n",
      "\u001b[0;32mpandas/index.pyx\u001b[0m in \u001b[0;36mpandas.index.IndexEngine.get_loc (pandas/index.c:3979)\u001b[0;34m()\u001b[0m\n",
      "\u001b[0;32mpandas/index.pyx\u001b[0m in \u001b[0;36mpandas.index.IndexEngine.get_loc (pandas/index.c:3843)\u001b[0;34m()\u001b[0m\n",
      "\u001b[0;32mpandas/hashtable.pyx\u001b[0m in \u001b[0;36mpandas.hashtable.Int64HashTable.get_item (pandas/hashtable.c:6525)\u001b[0;34m()\u001b[0m\n",
      "\u001b[0;32mpandas/hashtable.pyx\u001b[0m in \u001b[0;36mpandas.hashtable.Int64HashTable.get_item (pandas/hashtable.c:6463)\u001b[0;34m()\u001b[0m\n",
      "\u001b[0;31mKeyError\u001b[0m: 0"
     ]
    }
   ],
   "source": [
    "# d=\n",
    "# job_df.groupby(job_df[0])\n",
    "# for i,j in enumerate(raw_department):\n",
    "#     string+=\"u\\\"\"+j+\"\\\":\"+str(i)+','\n",
    "# print string\n",
    "# job_df.count()"
   ]
  },
  {
   "cell_type": "code",
   "execution_count": null,
   "metadata": {
    "collapsed": false,
    "scrolled": true
   },
   "outputs": [],
   "source": [
    "sorted_df=job_df.groupby(job_df[0]).sum().sort(1,ascending=False)\n",
    "print len(sorted_df)\n",
    "print sorted_df[sorted_df[1]<20].count()\n",
    "sorted_df[sorted_df[1]<20]"
   ]
  },
  {
   "cell_type": "code",
   "execution_count": 129,
   "metadata": {
    "collapsed": false
   },
   "outputs": [],
   "source": [
    "# df.loc[df[0]>10]\n",
    "# # _df"
   ]
  },
  {
   "cell_type": "code",
   "execution_count": 36,
   "metadata": {
    "collapsed": false
   },
   "outputs": [],
   "source": [
    "job_df=pd.DataFrame(position_list)\n",
    "# job_df=job_df.drop(3,axis=1)\n",
    "job_df=job_df.drop(4,axis=1)\n",
    "job_df[1] =job_df[1].map( name_to_vec )\n",
    "job_df[2] =job_df[2].map( cate_to_vec )\n",
    "job_df[5] =job_df[5].map( type_to_vec )\n",
    "# job_df"
   ]
  },
  {
   "cell_type": "code",
   "execution_count": null,
   "metadata": {
    "collapsed": true
   },
   "outputs": [],
   "source": []
  },
  {
   "cell_type": "code",
   "execution_count": null,
   "metadata": {
    "collapsed": true
   },
   "outputs": [],
   "source": []
  },
  {
   "cell_type": "code",
   "execution_count": null,
   "metadata": {
    "collapsed": true
   },
   "outputs": [],
   "source": []
  },
  {
   "cell_type": "code",
   "execution_count": 30,
   "metadata": {
    "collapsed": false
   },
   "outputs": [
    {
     "data": {
      "text/plain": [
       "[u'564ec46732d2e40928c866a5',\n",
       " u'564ec46a32d2e40928c869f2',\n",
       " u'564ec46c32d2e40928c86b69',\n",
       " u'564ec46c32d2e40928c86b6d',\n",
       " u'564ec46d32d2e40928c86c50',\n",
       " u'564ec47432d2e40928c87250',\n",
       " u'564ec47432d2e40928c872f3',\n",
       " u'564ec47532d2e40928c8730e',\n",
       " u'564ec47732d2e40928c8746f',\n",
       " u'564ec47e32d2e40928c878a9',\n",
       " u'564ec48032d2e40928c87978',\n",
       " u'564ec48632d2e40928c87c3f',\n",
       " u'564ec49232d2e40928c880c8',\n",
       " u'564ec4ac32d2e40928c8895a',\n",
       " u'564ec4c132d2e40928c88fbe',\n",
       " u'564ec4e732d2e40928c89923',\n",
       " u'564ec4f732d2e40928c89c98',\n",
       " u'564ec50032d2e40928c89e75',\n",
       " u'564ec51632d2e40928c8a31c',\n",
       " u'564ec53232d2e40928c8a8b1',\n",
       " u'564ec57132d2e40928c8b362',\n",
       " u'564ec58c32d2e40928c8b7ac',\n",
       " u'564ec5a832d2e40928c8bbca',\n",
       " u'564ec5ad32d2e40928c8bca4',\n",
       " u'564ec5b132d2e40928c8bd43',\n",
       " u'565280eb8f2ed200010002f3',\n",
       " u'5666b521a9b584568c47eedc',\n",
       " u'5666bd8fa9b584568c47eee3',\n",
       " u'5677a41adf04df00010003c3',\n",
       " u'5677a41b8c54fd000100033c',\n",
       " u'5677a41bdf04df00010003c4',\n",
       " u'5677a4228c54fd000100033d',\n",
       " u'569dd0017928fb0001000018',\n",
       " u'56a9dd03ba721b0001000057',\n",
       " u'56eb9bace1496a00010000ac',\n",
       " u'5720174499d155000100004e']"
      ]
     },
     "execution_count": 30,
     "metadata": {},
     "output_type": "execute_result"
    }
   ],
   "source": [
    "def position_query(name,cate,worktype=0):\n",
    "    position_df=job_df.loc[(job_df[1]==name) & (job_df[2]==cate) & (job_df[2]==cate),0]\n",
    "    if position_df.count():\n",
    "        return list(position_df.values)\n",
    "    else:\n",
    "        return\n",
    "position_query(1,2)"
   ]
  }
 ],
 "metadata": {
  "kernelspec": {
   "display_name": "Python 2",
   "language": "python",
   "name": "python2"
  },
  "language_info": {
   "codemirror_mode": {
    "name": "ipython",
    "version": 2
   },
   "file_extension": ".py",
   "mimetype": "text/x-python",
   "name": "python",
   "nbconvert_exporter": "python",
   "pygments_lexer": "ipython2",
   "version": "2.7.9"
  }
 },
 "nbformat": 4,
 "nbformat_minor": 0
}
