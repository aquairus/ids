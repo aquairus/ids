{
 "cells": [
  {
   "cell_type": "code",
   "execution_count": 8,
   "metadata": {
    "collapsed": false
   },
   "outputs": [
    {
     "name": "stdout",
     "output_type": "stream",
     "text": [
      "Populating the interactive namespace from numpy and matplotlib\n"
     ]
    }
   ],
   "source": [
    "%pylab inline\n",
    "\n",
    "\n",
    "import pandas as pd\n",
    "import numpy as np\n",
    "import matplotlib.pyplot as plt\n",
    "import json \n",
    "\n",
    "from datetime import date\n",
    "import datetime\n",
    "import time\n",
    "\n",
    "from moudle.pre_process import *\n",
    "from moudle.segment import *\n",
    "\n",
    "import seaborn as sns\n",
    "sns.set_palette('deep', desat=.6)\n",
    "sns.set_context(rc={'figure.figsize': (8, 5) } )"
   ]
  },
  {
   "cell_type": "markdown",
   "metadata": {},
   "source": [
    "read from applications.json"
   ]
  },
  {
   "cell_type": "code",
   "execution_count": 9,
   "metadata": {
    "collapsed": false
   },
   "outputs": [],
   "source": [
    "src_data=open(\"data/applications.json\")\n",
    "corpus=src_data.read().replace('}{', '}|{').split('|')\n"
   ]
  },
  {
   "cell_type": "code",
   "execution_count": 10,
   "metadata": {
    "collapsed": false
   },
   "outputs": [],
   "source": [
    "def job_clean(name):\n",
    "    if name:\n",
    "        if len(name)>10:\n",
    "            return 'trash'\n",
    "        if u'专场' in name:\n",
    "            return \"fair\"\n",
    "        if u'管理培训生' in name:\n",
    "            return u\"管培生\"       \n",
    "        new_name=name.split(\"-\")[0]  \n",
    "        new_name=new_name.split(u\"、\")[0]  \n",
    "        new_name=new_name.split(u\"丨\")[0]        \n",
    "        new_name=new_name.split(u\"（\")[0] \n",
    "        new_name=new_name.split(u\"/\")[0] \n",
    "\n",
    "        return new_name\n",
    "    else:\n",
    "        return \n"
   ]
  },
  {
   "cell_type": "code",
   "execution_count": 11,
   "metadata": {
    "collapsed": false
   },
   "outputs": [],
   "source": [
    "\n",
    "cate_num=1000\n",
    "cate_list=[]\n",
    "cate_series=[]\n",
    "for item in corpus[:cate_num]:   \n",
    "    vec=apply_vec(item)\n",
    "    if vec:\n",
    "        if vec[0]:\n",
    "            pass\n",
    "        if vec[1]:\n",
    "            cate_list.append(vec[1][2])\n",
    "# for idx,cate in  enumerate(cate_list):\n",
    "#     print idx\n",
    "#     print cate\n",
    "\n",
    "# plt.hist(cate_list,facecolor='blue', alpha=0.5)"
   ]
  },
  {
   "cell_type": "code",
   "execution_count": 12,
   "metadata": {
    "collapsed": false,
    "scrolled": false
   },
   "outputs": [],
   "source": [
    "apply_list=[]\n",
    "name_list=[]\n",
    "\n",
    "for item in corpus[:-1]:   \n",
    "    vec=apply_vec(item)\n",
    "    if vec:\n",
    "        if vec[0]:\n",
    "            pass\n",
    "        if vec[1]:\n",
    "            name_list.append(job_clean(vec[1][1]))\n",
    "\n",
    "            \n"
   ]
  },
  {
   "cell_type": "code",
   "execution_count": 13,
   "metadata": {
    "collapsed": false
   },
   "outputs": [
    {
     "name": "stderr",
     "output_type": "stream",
     "text": [
      "Building prefix dict from the default dictionary ...\n",
      "DEBUG:jieba:Building prefix dict from the default dictionary ...\n",
      "Loading model from cache /var/folders/05/qgxy3zyx40jflp070rrvt8x80000gn/T/jieba.cache\n",
      "DEBUG:jieba:Loading model from cache /var/folders/05/qgxy3zyx40jflp070rrvt8x80000gn/T/jieba.cache\n",
      "Loading model cost 0.699 seconds.\n",
      "DEBUG:jieba:Loading model cost 0.699 seconds.\n",
      "Prefix dict has been built succesfully.\n",
      "DEBUG:jieba:Prefix dict has been built succesfully.\n"
     ]
    },
    {
     "name": "stdout",
     "output_type": "stream",
     "text": [
      "trash\n",
      "项目经理\n",
      "fair\n",
      "管培生\n",
      "SMT\n",
      "财务\n",
      "并购\n",
      "投后\n",
      "BD\n",
      "专员\n",
      "规划师\n",
      "客户经理\n",
      "投资者\n",
      "初级\n",
      "销售\n",
      "总裁\n",
      "分析员\n",
      "精解\n",
      "投资人\n",
      "私募\n",
      "干货\n",
      "见习\n",
      "FA\n",
      "量化\n",
      "业务人员\n",
      "商行\n",
      "投资部\n",
      "Analyst\n",
      "资深\n",
      "A股\n"
     ]
    }
   ],
   "source": [
    "tags=name_tag(name_list,K=30)\n",
    "for tag in tags:\n",
    "    print tag"
   ]
  },
  {
   "cell_type": "code",
   "execution_count": 14,
   "metadata": {
    "collapsed": false
   },
   "outputs": [
    {
     "name": "stdout",
     "output_type": "stream",
     "text": [
      "50\n",
      "42\n"
     ]
    }
   ],
   "source": [
    "\n",
    "stop_words=u\"实习生|实习|经理|资深|专员|暑期|团队|高级|行业|执行|总裁|初级|经理助理|总监|助理|分析师|intern|业务人员|投资银行|投资者|财务分析师|顾问|研究员|项目经理|投资经理\"\n",
    "\n",
    "tags=name_tag(name_list,K=50)\n",
    "print len(tags)\n",
    "for word in stop_words.split(\"|\"):\n",
    "\n",
    "    if word in tags:\n",
    "        tags.remove(word)\n",
    "        \n",
    "\n",
    "print len(tags)"
   ]
  },
  {
   "cell_type": "code",
   "execution_count": 15,
   "metadata": {
    "collapsed": false
   },
   "outputs": [
    {
     "name": "stdout",
     "output_type": "stream",
     "text": [
      "9902\n",
      "9902\n"
     ]
    },
    {
     "data": {
      "text/plain": [
       "(array([ 8356.,   205.,   132.,   129.,   130.,    51.,   111.,    85.,\n",
       "           33.,    56.,    55.,    38.,    64.,    33.,    58.,    23.,\n",
       "           52.,    28.,    37.,    18.,    39.,    15.,    15.,    30.,\n",
       "           35.,    14.,    29.,    31.]),\n",
       " array([ -1. ,   0.5,   2. ,   3.5,   5. ,   6.5,   8. ,   9.5,  11. ,\n",
       "         12.5,  14. ,  15.5,  17. ,  18.5,  20. ,  21.5,  23. ,  24.5,\n",
       "         26. ,  27.5,  29. ,  30.5,  32. ,  33.5,  35. ,  36.5,  38. ,\n",
       "         39.5,  41. ]),\n",
       " <a list of 28 Patch objects>)"
      ]
     },
     "execution_count": 15,
     "metadata": {},
     "output_type": "execute_result"
    },
    {
     "data": {
      "image/png": "[encoded data removed]",
      "text/plain": [
       "<matplotlib.figure.Figure at 0x119c09250>"
      ]
     },
     "metadata": {},
     "output_type": "display_data"
    }
   ],
   "source": [
    "\n",
    "\n",
    "\n",
    "name_taged={}\n",
    "for app_id,name in enumerate(name_list):\n",
    "    for idx,tag in  enumerate(tags):\n",
    "        if tag in name:\n",
    "            name_taged[app_id]=idx\n",
    "    if not app_id in name_taged:\n",
    "        name_taged[app_id]=-1\n",
    "\n",
    "   \n",
    "print len(name_list)\n",
    "print len(name_taged)\n",
    "plt.hist(name_taged.values(),bins=28,facecolor='blue', alpha=0.5)"
   ]
  },
  {
   "cell_type": "code",
   "execution_count": 16,
   "metadata": {
    "collapsed": false
   },
   "outputs": [
    {
     "name": "stdout",
     "output_type": "stream",
     "text": [
      "0 trash\n",
      "1 fair\n",
      "2 管培生\n",
      "3 SMT\n",
      "4 财务\n",
      "5 并购\n",
      "6 投后\n",
      "7 BD\n",
      "8 规划师\n",
      "9 客户经理\n",
      "10 销售\n",
      "11 分析员\n",
      "12 精解\n",
      "13 投资人\n",
      "14 私募\n",
      "15 干货\n",
      "16 见习\n",
      "17 FA\n",
      "18 量化\n",
      "19 商行\n",
      "20 投资部\n",
      "21 Analyst\n",
      "22 A股\n",
      "23 投行部\n",
      "24 策略\n",
      "25 评审\n",
      "26 PE\n",
      "27 structurer\n",
      "28 IBD\n",
      "29 VC\n",
      "30 市场推广\n",
      "31 猎头\n",
      "32 CEO\n",
      "33 客服\n",
      "34 营销\n",
      "35 行研\n",
      "36 配置\n",
      "37 事业部\n",
      "38 理财师\n",
      "39 在线\n",
      "40 人事\n",
      "41 信用\n"
     ]
    }
   ],
   "source": [
    "\n",
    "for idx,tag in enumerate(tags):\n",
    "    print idx,tag\n"
   ]
  },
  {
   "cell_type": "code",
   "execution_count": 17,
   "metadata": {
    "collapsed": true
   },
   "outputs": [],
   "source": [
    "def map_city(city):\n",
    "    if len(city) >2:\n",
    "        return city[:2]\n",
    "    else:\n",
    "        return city   \n",
    "def map_age(age):\n",
    "    if age:\n",
    "        return 1\n",
    "    return 0\n",
    "\n"
   ]
  },
  {
   "cell_type": "code",
   "execution_count": 18,
   "metadata": {
    "collapsed": false
   },
   "outputs": [
    {
     "ename": "NameError",
     "evalue": "name 'application_list' is not defined",
     "output_type": "error",
     "traceback": [
      "\u001b[0;31m---------------------------------------------------------------------------\u001b[0m",
      "\u001b[0;31mNameError\u001b[0m                                 Traceback (most recent call last)",
      "\u001b[0;32m<ipython-input-18-075d8a28b3e3>\u001b[0m in \u001b[0;36m<module>\u001b[0;34m()\u001b[0m\n\u001b[1;32m      7\u001b[0m \u001b[0;34m\u001b[0m\u001b[0m\n\u001b[1;32m      8\u001b[0m \u001b[0;34m\u001b[0m\u001b[0m\n\u001b[0;32m----> 9\u001b[0;31m \u001b[0mapplication_pd\u001b[0m\u001b[0;34m=\u001b[0m\u001b[0mpd\u001b[0m\u001b[0;34m.\u001b[0m\u001b[0mDataFrame\u001b[0m\u001b[0;34m(\u001b[0m\u001b[0mapplication_list\u001b[0m\u001b[0;34m)\u001b[0m\u001b[0;34m\u001b[0m\u001b[0m\n\u001b[0m\u001b[1;32m     10\u001b[0m \u001b[0mapplication_pd\u001b[0m\u001b[0;34m[\u001b[0m\u001b[0;36m9\u001b[0m\u001b[0;34m]\u001b[0m\u001b[0;34m=\u001b[0m\u001b[0mapplication_pd\u001b[0m\u001b[0;34m[\u001b[0m\u001b[0;36m9\u001b[0m\u001b[0;34m]\u001b[0m\u001b[0;34m.\u001b[0m\u001b[0mmap\u001b[0m\u001b[0;34m(\u001b[0m\u001b[0;32mlambda\u001b[0m \u001b[0mx\u001b[0m\u001b[0;34m:\u001b[0m\u001b[0mmap_status\u001b[0m\u001b[0;34m(\u001b[0m\u001b[0mx\u001b[0m\u001b[0;34m)\u001b[0m\u001b[0;34m)\u001b[0m\u001b[0;34m\u001b[0m\u001b[0m\n\u001b[1;32m     11\u001b[0m \u001b[0mapplication_pd\u001b[0m\u001b[0;34m[\u001b[0m\u001b[0;36m0\u001b[0m\u001b[0;34m]\u001b[0m \u001b[0;34m=\u001b[0m \u001b[0mapplication_pd\u001b[0m\u001b[0;34m[\u001b[0m\u001b[0;36m0\u001b[0m\u001b[0;34m]\u001b[0m\u001b[0;34m.\u001b[0m\u001b[0mmap\u001b[0m\u001b[0;34m(\u001b[0m \u001b[0;34m{\u001b[0m\u001b[0;34mu'男'\u001b[0m\u001b[0;34m:\u001b[0m \u001b[0;36m0\u001b[0m\u001b[0;34m,\u001b[0m \u001b[0;34mu'女'\u001b[0m\u001b[0;34m:\u001b[0m \u001b[0;36m1\u001b[0m\u001b[0;34m}\u001b[0m \u001b[0;34m)\u001b[0m\u001b[0;34m\u001b[0m\u001b[0m\n",
      "\u001b[0;31mNameError\u001b[0m: name 'application_list' is not defined"
     ]
    }
   ],
   "source": [
    "def map_status(status):\n",
    "    if status in ['invited']:#'read',,'interviewed'#best:'invited'\n",
    "        return 1\n",
    "    else:\n",
    "        return 0\n",
    "\n",
    "\n",
    "\n",
    "application_pd=pd.DataFrame(application_list)\n",
    "application_pd[9]=application_pd[9].map(lambda x:map_status(x))\n",
    "application_pd[0] = application_pd[0].map( {u'男': 0, u'女': 1} )\n",
    "application_pd[2] = application_pd[2].map( lambda x:x/5)\n",
    "application_pd[3] = application_pd[3].map( lambda x:x/5)\n",
    "application_pd[1]=application_pd[1].map(lambda x:map_age(x))\n",
    "application_pd=application_pd.drop(4,axis=1)\n",
    "application_pd=application_pd.drop(2,axis=1)\n",
    "application_pd=application_pd.dropna()\n",
    "\n",
    "\n"
   ]
  },
  {
   "cell_type": "code",
   "execution_count": null,
   "metadata": {
    "collapsed": false
   },
   "outputs": [],
   "source": [
    "\n",
    "# result=application_pd.values[:,8]\n",
    "# age=application_pd.values[:,2]\n",
    "# age_invited=age[result==1]\n",
    "# age_uninvited=age[result==0]\n",
    "\n",
    "# plt.hist(age_uninvited,facecolor='blue', alpha=0.5)\n",
    "# plt.hist(age_invited,facecolor='green', alpha=0.5)\n"
   ]
  },
  {
   "cell_type": "code",
   "execution_count": null,
   "metadata": {
    "collapsed": true
   },
   "outputs": [],
   "source": []
  },
  {
   "cell_type": "code",
   "execution_count": null,
   "metadata": {
    "collapsed": false
   },
   "outputs": [],
   "source": [
    "from sklearn.ensemble import RandomForestClassifier, ExtraTreesClassifier\n",
    "from sklearn.ensemble import AdaBoostClassifier\n",
    "from sklearn.neighbors import KNeighborsClassifier\n",
    "\n",
    "\n",
    "train_data = application_pd.values\n",
    "\n",
    "forest = RandomForestClassifier(n_estimators=100)\n",
    "forest = forest.fit( train_data[0::,:-1], train_data[0::,-1] )\n",
    "\n",
    "\n",
    "\n",
    "\n",
    "clf = AdaBoostClassifier(n_estimators=100)\n",
    "clf = clf.fit( train_data[0::,:-1], train_data[0::,-1] )\n",
    "from sklearn import cross_validation\n",
    "\n",
    "clf_scores = cross_validation.cross_val_score(clf,train_data[0::,:-1], train_data[0::,-1],cv=10)#.mean()\n",
    "print clf_scores.mean()    \n",
    "\n",
    "forest_scores = cross_validation.cross_val_score(forest,train_data[0::,:-1], train_data[0::,-1],cv=5)#.mean()\n",
    "print forest_scores.mean()   "
   ]
  },
  {
   "cell_type": "code",
   "execution_count": null,
   "metadata": {
    "collapsed": false
   },
   "outputs": [],
   "source": [
    "\n",
    "from sklearn import metrics\n",
    "from sklearn.metrics import precision_recall_curve\n",
    "from sklearn.metrics import accuracy_score\n",
    "y_true = train_data[0::,-1]\n",
    "\n",
    "y_scores = forest.predict_proba(train_data[0::,:-1])\n",
    "\n",
    "precision, recall, thresholds = precision_recall_curve(y_true, y_scores[0::,1])\n",
    "\n",
    "\n",
    "# plt.plot( recall,precision)\n",
    "# rint metrics.auc(recall,precision)\n",
    "fpr, tpr, thresholds = metrics.roc_curve(y_true, y_scores[0::,1])\n",
    "plt.plot( fpr, tpr)\n",
    "print metrics.auc(fpr, tpr)\n",
    "forest.score(train_data[0::,:-1],y_true)"
   ]
  },
  {
   "cell_type": "code",
   "execution_count": null,
   "metadata": {
    "collapsed": false
   },
   "outputs": [],
   "source": [
    "y_scores = clf.predict_proba(train_data[0::,:-1])\n",
    "precision, recall, thresholds = precision_recall_curve(y_true, y_scores[0::,1])\n",
    "# plt.plot( recall,precision)\n",
    "print metrics.auc(recall,precision)\n",
    "fpr, tpr, thresholds = metrics.roc_curve(y_true, y_scores[0::,1])\n",
    "# plt.plot( fpr, tpr)\n",
    "print metrics.auc(fpr, tpr)\n",
    "clf.score(train_data[0::,:-1],y_true)"
   ]
  },
  {
   "cell_type": "code",
   "execution_count": null,
   "metadata": {
    "collapsed": false,
    "scrolled": true
   },
   "outputs": [],
   "source": [
    "# print metrics.auc(precision, recall)\n",
    "print sum(y_true )\n",
    "print len(y_true )\n",
    "print 1-float(sum(y_true))/len(y_true )"
   ]
  },
  {
   "cell_type": "code",
   "execution_count": null,
   "metadata": {
    "collapsed": false
   },
   "outputs": [],
   "source": [
    "\n",
    "position_set=set()\n",
    "position_num=20000\n",
    "dutys=[]\n",
    "\n",
    "for item in corpus[:position_num]:\n",
    "    position=position_vec(item)\n",
    "    if position:\n",
    "        if not position[0] in position_set:\n",
    "            dutys.append(position[3])\n",
    "            position_set.add(position[0])\n",
    "            \n",
    "            \n",
    "print str(len(position_set))+'/'+str(position_num)"
   ]
  },
  {
   "cell_type": "code",
   "execution_count": null,
   "metadata": {
    "collapsed": false
   },
   "outputs": [],
   "source": [
    "\n",
    "from sklearn.feature_extraction.text import TfidfVectorizer\n",
    "from nltk.tokenize import word_tokenize\n",
    "\n",
    "\n",
    "vectorizer = TfidfVectorizer(min_df=0.01,max_df=0.3, decode_error='ignore')\n",
    "X = vectorizer.fit_transform(duty_seg)\n",
    "X=X.toarray()\n",
    "\n",
    "print X.shape\n",
    "print len(duty_seg)"
   ]
  },
  {
   "cell_type": "code",
   "execution_count": null,
   "metadata": {
    "collapsed": false
   },
   "outputs": [],
   "source": [
    "# dictionary=corpora.Dictionary(duty_seg)\n",
    "# duty_corpus = [dictionary.doc2bow(seg) for seg in duty_seg]\n",
    "\n",
    "# tfidf = models.TfidfModel(duty_corpus)\n",
    "# duty_tfidf = tfidf[duty_corpus]\n",
    "# lsi = models.LsiModel(duty_tfidf, id2word=dictionary, num_topics=5)\n",
    "# corpus_lsi = lsi[duty_tfidf]\n",
    "# for doc in corpus_lsi:\n",
    "#     print doc\n",
    "\n"
   ]
  },
  {
   "cell_type": "code",
   "execution_count": null,
   "metadata": {
    "collapsed": false
   },
   "outputs": [],
   "source": [
    "# idx=(km.labels_==0).nonzero()[0]\n",
    "# for i in list(idx):\n",
    "#     print i\n",
    "#     print dutys[i]\n"
   ]
  },
  {
   "cell_type": "code",
   "execution_count": null,
   "metadata": {
    "collapsed": false
   },
   "outputs": [],
   "source": [
    "resume_cnt=100\n",
    "resume_list=[]\n",
    "resume_set=set()\n",
    "for item in corpus[:resume_cnt]:\n",
    "    resume=resume_vec(item)\n",
    "    if not resume[0] in resume_set:\n",
    "        resume_set.add(resume[0])\n",
    "        resume_list.append(resume)\n",
    "\n",
    "print str(len(resume_set))+'/'+str(resume_cnt)"
   ]
  },
  {
   "cell_type": "code",
   "execution_count": null,
   "metadata": {
    "collapsed": false
   },
   "outputs": [],
   "source": [
    "\n",
    "duty_seg=[]\n",
    "\n",
    "for duty in dutys:\n",
    "    duty_seg.append(text_segment(duty))\n",
    "    \n",
    "\n",
    "\n"
   ]
  },
  {
   "cell_type": "code",
   "execution_count": null,
   "metadata": {
    "collapsed": true
   },
   "outputs": [],
   "source": []
  }
 ],
 "metadata": {
  "kernelspec": {
   "display_name": "Python 2",
   "language": "python",
   "name": "python2"
  },
  "language_info": {
   "codemirror_mode": {
    "name": "ipython",
    "version": 2
   },
   "file_extension": ".py",
   "mimetype": "text/x-python",
   "name": "python",
   "nbconvert_exporter": "python",
   "pygments_lexer": "ipython2",
   "version": "2.7.9"
  }
 },
 "nbformat": 4,
 "nbformat_minor": 0
}
