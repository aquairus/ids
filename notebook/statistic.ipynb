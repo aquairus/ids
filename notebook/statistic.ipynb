{
 "cells": [
  {
   "cell_type": "code",
   "execution_count": 50,
   "metadata": {
    "collapsed": false
   },
   "outputs": [
    {
     "name": "stdout",
     "output_type": "stream",
     "text": [
      "Populating the interactive namespace from numpy and matplotlib\n"
     ]
    },
    {
     "name": "stderr",
     "output_type": "stream",
     "text": [
      "WARNING: pylab import has clobbered these variables: ['axis']\n",
      "`%matplotlib` prevents importing * from pylab and numpy\n"
     ]
    }
   ],
   "source": [
    "%pylab inline\n",
    "\n",
    "\n",
    "import pandas as pd\n",
    "import numpy as np\n",
    "import matplotlib.pyplot as plt\n",
    "import json \n",
    "\n",
    "from datetime import date\n",
    "import datetime\n",
    "import time\n",
    "\n",
    "from moudle.pre_process import *\n",
    "from moudle.segment import *\n",
    "\n",
    "import seaborn as sns\n",
    "sns.set_palette('deep', desat=.6)\n",
    "sns.set_context(rc={'figure.figsize': (8, 5) } )"
   ]
  },
  {
   "cell_type": "code",
   "execution_count": 51,
   "metadata": {
    "collapsed": false
   },
   "outputs": [
    {
     "name": "stdout",
     "output_type": "stream",
     "text": [
      "0\n",
      "互联网金融\n",
      "1\n",
      "会计财务\n",
      "2\n",
      "保险公司\n",
      "3\n",
      "信托与融资租赁\n",
      "4\n",
      "其他\n",
      "5\n",
      "商业银行\n",
      "6\n",
      "基金与期货\n",
      "7\n",
      "官方机构\n",
      "8\n",
      "投行与券商\n",
      "9\n",
      "私募股权与风投\n",
      "10\n",
      "职能岗位\n",
      "11\n",
      "财富管理\n"
     ]
    },
    {
     "data": {
      "text/plain": [
       "(array([ 1851.,    31.,   148.,    92.,  1235.,   105.,   171.,     6.,\n",
       "         1574.,  3058.,    67.,  1564.]),\n",
       " array([  0.        ,   0.91666667,   1.83333333,   2.75      ,\n",
       "          3.66666667,   4.58333333,   5.5       ,   6.41666667,\n",
       "          7.33333333,   8.25      ,   9.16666667,  10.08333333,  11.        ]),\n",
       " <a list of 12 Patch objects>)"
      ]
     },
     "execution_count": 51,
     "metadata": {},
     "output_type": "execute_result"
    },
    {
     "data": {
      "image/png": "[encoded data removed]",
      "text/plain": [
       "<matplotlib.figure.Figure at 0x12133d510>"
      ]
     },
     "metadata": {},
     "output_type": "display_data"
    }
   ],
   "source": [
    "\n",
    "src_data=open(\"data/applications.json\")\n",
    "corpus=src_data.read().replace('}{', '}|{').split('|')\n",
    "\n",
    "cate_list=[]\n",
    "cate_num=-1\n",
    "for item in corpus[:cate_num]:   \n",
    "    vec=apply_vec(item)\n",
    "    if vec:\n",
    "        if vec[1]:\n",
    "            cate_list.append(vec[1][2])\n",
    "            \n",
    "\n",
    "cate_pd=pd.DataFrame(cate_list)\n",
    "\n",
    "cates = list(enumerate(np.unique(cate_pd[0])))    \n",
    "cate_dict = { name : i for i, name in cates }             \n",
    "cate_pd[0] = cate_pd[0].map( lambda x: cate_dict[x]).astype(int) \n",
    "\n",
    "\n",
    "inverted_cate=dict([(v,k) for k,v in cate_dict.items()]) \n",
    "for idx,cate in inverted_cate.items():\n",
    "    print idx\n",
    "    print cate\n",
    "   \n",
    "plt.hist(cate_pd[0],bins=len(cate_dict),facecolor='blue', alpha=0.5)"
   ]
  },
  {
   "cell_type": "code",
   "execution_count": 52,
   "metadata": {
    "collapsed": false
   },
   "outputs": [
    {
     "name": "stdout",
     "output_type": "stream",
     "text": [
      "0\n",
      "IT技术\n",
      "1\n",
      "互联网金融\n",
      "2\n",
      "会计财务\n",
      "3\n",
      "保险公司\n",
      "4\n",
      "信托与融资租凭\n",
      "5\n",
      "信托与融资租赁\n",
      "6\n",
      "其他\n",
      "7\n",
      "内资投行/券商\n",
      "8\n",
      "商业银行\n",
      "9\n",
      "基金与期货\n",
      "10\n",
      "官方机构\n",
      "11\n",
      "投行与券商\n",
      "12\n",
      "私募股权与风投\n",
      "13\n",
      "职能岗位\n",
      "14\n",
      "财富管理\n"
     ]
    },
    {
     "data": {
      "image/png": "[encoded data removed]",
      "text/plain": [
       "<matplotlib.figure.Figure at 0x110a55c50>"
      ]
     },
     "metadata": {},
     "output_type": "display_data"
    }
   ],
   "source": [
    "cate_list=[]\n",
    "\n",
    "\n",
    "src_data=open(\"data/position.txt\")\n",
    "corpus=src_data.read().split('\\n')\n",
    "position_num=1\n",
    "for item in corpus[:-position_num]:\n",
    "    position=position_vec_all(item)\n",
    "    if position:\n",
    "        cate_list.append(position[2])\n",
    "\n",
    "\n",
    "cate_pd=pd.DataFrame(cate_list)\n",
    "\n",
    "cates = list(enumerate(np.unique(cate_pd[0])))    \n",
    "cate_dict = { name : i for i, name in cates }             \n",
    "cate_pd[0] = cate_pd[0].map( lambda x: cate_dict[x]).astype(int) \n",
    "\n",
    "\n",
    "inverted_cate=dict([(v,k) for k,v in cate_dict.items()]) \n",
    "for idx,cate in inverted_cate.items():\n",
    "    print idx\n",
    "    print cate\n",
    "   \n",
    "plt.hist(cate_pd[0] ,bins=len(cate_dict) ,facecolor='blue', alpha=0.5)\n",
    "axis = plt.gca().xaxis\n",
    "\n",
    "for tick in axis.get_major_ticks():\n",
    "    tick.label1.set_fontsize(15)"
   ]
  },
  {
   "cell_type": "code",
   "execution_count": null,
   "metadata": {
    "collapsed": false
   },
   "outputs": [],
   "source": []
  },
  {
   "cell_type": "code",
   "execution_count": null,
   "metadata": {
    "collapsed": true
   },
   "outputs": [],
   "source": []
  }
 ],
 "metadata": {
  "kernelspec": {
   "display_name": "Python 2",
   "language": "python",
   "name": "python2"
  },
  "language_info": {
   "codemirror_mode": {
    "name": "ipython",
    "version": 2
   },
   "file_extension": ".py",
   "mimetype": "text/x-python",
   "name": "python",
   "nbconvert_exporter": "python",
   "pygments_lexer": "ipython2",
   "version": "2.7.9"
  }
 },
 "nbformat": 4,
 "nbformat_minor": 0
}
