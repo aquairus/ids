{
 "cells": [
  {
   "cell_type": "code",
   "execution_count": 6,
   "metadata": {
    "collapsed": false
   },
   "outputs": [],
   "source": [
    "%pylab inline\n",
    "import pandas as pd\n",
    "import numpy as np\n",
    "import matplotlib.pyplot as plt\n",
    "\n",
    "from sklearn import cross_validation\n",
    "\n",
    "from sklearn.linear_model import LogisticRegressionCV,LogisticRegression\n",
    "def normal_or_not(text):\n",
    "    if text==\"normal.\":\n",
    "        return 1\n",
    "    else:\n",
    "        return 0\n",
    "\n",
    "df=pd.read_csv(\"data/kddcup_data_10_percent.txt\")\n",
    "con_feature=[1,5,6,8,9,10,11,13,16,17,18,19,23,24,25,26,27,28,29,30,31,32,33,34,35,36,37,38,39,40,41,]\n",
    "\n",
    "dis_feature=[2, 3 ,4 ,7  ,12 ,14 ,15 ,21 ,22]\n",
    "select_feature=con_feature+dis_feature\n",
    "\n",
    "\n",
    "\n",
    "\n",
    "washed_df=pd.DataFrame()\n",
    "\n",
    "washed_df[0]=df['normal.'].map(normal_or_not)\n",
    "\n",
    "for i in con_feature:\n",
    "    washed_df[i]=pd.cut(df.iloc[:,i-1],4)\n",
    "\n",
    "for i in dis_feature:\n",
    "    washed_df[i]=df.iloc[:,i-1]\n",
    "\n",
    "vectorize_map={}\n",
    "for i in select_feature:\n",
    "    tcp_dict=dict(enumerate(np.unique(washed_df[i])))\n",
    "    vectorize_map[i]=dict((v,k) for k,v in tcp_dict.iteritems())\n",
    "for i in select_feature:\n",
    "    washed_df[i]=washed_df[i].map(vectorize_map[i])"
   ]
  },
  {
   "cell_type": "code",
   "execution_count": 7,
   "metadata": {
    "collapsed": false
   },
   "outputs": [
    {
     "name": "stdout",
     "output_type": "stream",
     "text": [
      "0.991880960126\n",
      "0.998003136123\n",
      "0.999521578641\n",
      "0.939931581717\n"
     ]
    }
   ],
   "source": [
    "\n",
    "from sklearn.ensemble import RandomForestClassifier\n",
    "forest = RandomForestClassifier(n_estimators=10)\n",
    "train_data = washed_df.values\n",
    "forest = forest.fit(train_data[0::,1::],train_data[0::,0] )\n",
    "\n",
    "from sklearn import cross_validation\n",
    "forest_scores = cross_validation.cross_val_score(forest,train_data[0::,1::], train_data[0::,0],cv=5)\n",
    "print forest_scores.mean()\n",
    "\n",
    "\n",
    "\n",
    "from sklearn import metrics\n",
    "from sklearn.metrics import precision_recall_curve\n",
    "y_true = train_data[0::,0]\n",
    "y_scores = forest.predict_proba(train_data[0::,1::])\n",
    "\n",
    "precision, recall, thresholds = precision_recall_curve(y_true, y_scores[0::,1])\n",
    "\n",
    "\n",
    "plt.plot( recall,precision)\n",
    "print metrics.auc(recall,precision)\n",
    "\n",
    "\n",
    "fpr, tpr, thresholds = metrics.roc_curve(y_true, y_scores[0::,1])\n",
    "plt.plot( fpr, tpr)\n",
    "print metrics.auc(fpr, tpr)\n",
    "print forest.score(train_data[0::,:-1],y_true)\n"
   ]
  },
  {
   "cell_type": "code",
   "execution_count": null,
   "metadata": {
    "collapsed": true
   },
   "outputs": [],
   "source": []
  }
 ],
 "metadata": {
  "kernelspec": {
   "display_name": "Python 2",
   "language": "python",
   "name": "python2"
  },
  "language_info": {
   "codemirror_mode": {
    "name": "ipython",
    "version": 2
   },
   "file_extension": ".py",
   "mimetype": "text/x-python",
   "name": "python",
   "nbconvert_exporter": "python",
   "pygments_lexer": "ipython2",
   "version": "2.7.9"
  }
 },
 "nbformat": 4,
 "nbformat_minor": 0
}
