{
 "cells": [
  {
   "cell_type": "code",
   "execution_count": 1,
   "metadata": {
    "collapsed": true
   },
   "outputs": [],
   "source": [
    "%run moudle/pre_process\n",
    "%run moudle/segment"
   ]
  },
  {
   "cell_type": "code",
   "execution_count": 2,
   "metadata": {
    "collapsed": false
   },
   "outputs": [
    {
     "name": "stdout",
     "output_type": "stream",
     "text": [
      "Populating the interactive namespace from numpy and matplotlib\n"
     ]
    }
   ],
   "source": [
    "%pylab inline\n",
    "import pandas as pd\n",
    "import numpy as np\n",
    "import matplotlib.pyplot as plt\n",
    "import json \n",
    "\n",
    "from datetime import date\n",
    "import datetime\n",
    "import time\n",
    "\n",
    "\n",
    "\n",
    "\n",
    "\n",
    "\n",
    "import seaborn as sns\n",
    "sns.set_palette('deep', desat=.6)\n",
    "sns.set_context(rc={'figure.figsize': (8, 5) } )\n",
    "src_data=open(\"data/applications.json\")\n",
    "corpus=src_data.read().replace('}{', '}|{').split('|')\n",
    "\n",
    "\n",
    "\n",
    "application_list=[]\n",
    "\n",
    "\n",
    "for item in corpus[:-1]:\n",
    "    \n",
    "    vec=application_vec(item)\n",
    "    if vec:\n",
    "        application_list.append(vec)\n",
    "\n",
    "application_pd=pd.DataFrame(application_list)\n",
    "def map_city(city):\n",
    "    if len(city) >2:\n",
    "        return city[:2]\n",
    "    else:\n",
    "        return city   \n",
    "def map_age(age):\n",
    "    if age:\n",
    "        return 1\n",
    "    return 0\n",
    "\n",
    "\n"
   ]
  },
  {
   "cell_type": "code",
   "execution_count": 3,
   "metadata": {
    "collapsed": false
   },
   "outputs": [],
   "source": [
    "def map_status(status):\n",
    "    if status in ['invited','interviewed','reposted']:#'read',,'interviewed'#best:'invited'\n",
    "        return 1\n",
    "    else:\n",
    "        return 0\n",
    "\n",
    "\n",
    "\n",
    "application_pd=pd.DataFrame(application_list)\n",
    "application_pd[9]=application_pd[9].map(lambda x:map_status(x))\n",
    "application_pd[0] = application_pd[0].map( {u'男': 0, u'女': 1} )\n",
    "# application_pd[2] = application_pd[2].map( lambda x:x/5)\n",
    "application_pd[3] = application_pd[3].map( lambda x:x/5)\n",
    "application_pd[1]=application_pd[1].map(lambda x:map_age(x))\n",
    "application_pd=application_pd.drop(4,axis=1)\n",
    "application_pd=application_pd.dropna()\n",
    "\n"
   ]
  },
  {
   "cell_type": "code",
   "execution_count": 4,
   "metadata": {
    "collapsed": false
   },
   "outputs": [
    {
     "data": {
      "text/plain": [
       "(array([  6.,  46.,  43.,  10.,   5.,   5.,  10.,  14.,  15.,   9.,  14.,\n",
       "          8.,  15.,  16.,  18.,  29.,  49.,  47.,  29.,  11.]),\n",
       " array([ 38. ,  40.8,  43.6,  46.4,  49.2,  52. ,  54.8,  57.6,  60.4,\n",
       "         63.2,  66. ,  68.8,  71.6,  74.4,  77.2,  80. ,  82.8,  85.6,\n",
       "         88.4,  91.2,  94. ]),\n",
       " <a list of 20 Patch objects>)"
      ]
     },
     "execution_count": 4,
     "metadata": {},
     "output_type": "execute_result"
    },
    {
     "data": {
      "image/png": "[encoded data removed]",
      "text/plain": [
       "<matplotlib.figure.Figure at 0x112aeac50>"
      ]
     },
     "metadata": {},
     "output_type": "display_data"
    }
   ],
   "source": [
    "\n",
    "bins_num=20\n",
    "\n",
    "result=application_pd.values[:,8]\n",
    "age=application_pd.values[:,2]\n",
    "age_rejected=age[result==1]\n",
    "age_unrejected=age[result==0]\n",
    "\n",
    "plt.hist(age_unrejected,bins=bins_num,facecolor='blue', alpha=0.5)\n",
    "plt.hist(age_rejected,bins=bins_num,facecolor='green', alpha=0.8)\n",
    "\n"
   ]
  },
  {
   "cell_type": "markdown",
   "metadata": {},
   "source": [
    "blue: un_rejected"
   ]
  },
  {
   "cell_type": "code",
   "execution_count": 5,
   "metadata": {
    "collapsed": false
   },
   "outputs": [
    {
     "data": {
      "text/plain": [
       "(array([  3.,  24.,  32.,   7.,   5.,   2.,   9.,   9.,  11.,   7.,  12.,\n",
       "          6.,  10.,  13.,  12.,   9.,  37.,  43.,  24.,   6.]),\n",
       " array([ 38. ,  40.8,  43.6,  46.4,  49.2,  52. ,  54.8,  57.6,  60.4,\n",
       "         63.2,  66. ,  68.8,  71.6,  74.4,  77.2,  80. ,  82.8,  85.6,\n",
       "         88.4,  91.2,  94. ]),\n",
       " <a list of 20 Patch objects>)"
      ]
     },
     "execution_count": 5,
     "metadata": {},
     "output_type": "execute_result"
    },
    {
     "data": {
      "image/png": "[encoded data removed]",
      "text/plain": [
       "<matplotlib.figure.Figure at 0x10d5d77d0>"
      ]
     },
     "metadata": {},
     "output_type": "display_data"
    }
   ],
   "source": [
    "def map_status(status):\n",
    "    if status in ['invited','reposted']:#'read',,'interviewed'#best:'invited'\n",
    "        return 1\n",
    "    else:\n",
    "        return 0\n",
    "\n",
    "\n",
    "\n",
    "application_pd=pd.DataFrame(application_list)\n",
    "application_pd[9]=application_pd[9].map(lambda x:map_status(x))\n",
    "application_pd[0] = application_pd[0].map( {u'男': 0, u'女': 1} )\n",
    "# application_pd[2] = application_pd[2].map( lambda x:x/5)\n",
    "application_pd[3] = application_pd[3].map( lambda x:x/5)\n",
    "application_pd[1]=application_pd[1].map(lambda x:map_age(x))\n",
    "application_pd=application_pd.drop(4,axis=1)\n",
    "application_pd=application_pd.dropna()\n",
    "\n",
    "\n",
    "\n",
    "result=application_pd.values[:,8]\n",
    "age=application_pd.values[:,2]\n",
    "age_invited=age[result==1]\n",
    "age_uninvited=age[result==0]\n",
    "\n",
    "plt.hist(age_uninvited,bins=bins_num,facecolor='blue', alpha=0.5)\n",
    "plt.hist(age_invited,bins=bins_num,facecolor='green', alpha=0.8)"
   ]
  },
  {
   "cell_type": "markdown",
   "metadata": {},
   "source": [
    "green: invited"
   ]
  },
  {
   "cell_type": "code",
   "execution_count": 6,
   "metadata": {
    "collapsed": false
   },
   "outputs": [
    {
     "data": {
      "text/plain": [
       "(array([  29.,  192.,  196.,   46.,   25.,   30.,   29.,   72.,   72.,\n",
       "          29.,   52.,   58.,   64.,   45.,   20.,   29.,   21.,   13.,\n",
       "           3.,    3.]),\n",
       " array([ 38. ,  40.8,  43.6,  46.4,  49.2,  52. ,  54.8,  57.6,  60.4,\n",
       "         63.2,  66. ,  68.8,  71.6,  74.4,  77.2,  80. ,  82.8,  85.6,\n",
       "         88.4,  91.2,  94. ]),\n",
       " <a list of 20 Patch objects>)"
      ]
     },
     "execution_count": 6,
     "metadata": {},
     "output_type": "execute_result"
    },
    {
     "data": {
      "image/png": "[encoded data removed]",
      "text/plain": [
       "<matplotlib.figure.Figure at 0x112e0d990>"
      ]
     },
     "metadata": {},
     "output_type": "display_data"
    }
   ],
   "source": [
    "# bins_num=12\n",
    "def map_status(status):\n",
    "    if status in [\"read\"]:#'read',,'interviewed'#best:'invited'\n",
    "        return 1\n",
    "    else:\n",
    "        return 0\n",
    "\n",
    "\n",
    "\n",
    "application_pd=pd.DataFrame(application_list)\n",
    "application_pd[9]=application_pd[9].map(lambda x:map_status(x))\n",
    "application_pd[0] = application_pd[0].map( {u'男': 0, u'女': 1} )\n",
    "# application_pd[2] = application_pd[2].map( lambda x:x/5)\n",
    "application_pd[3] = application_pd[3].map( lambda x:x/5)\n",
    "application_pd[1]=application_pd[1].map(lambda x:map_age(x))\n",
    "application_pd=application_pd.drop(4,axis=1)\n",
    "application_pd=application_pd.dropna()\n",
    "\n",
    "\n",
    "\n",
    "result=application_pd.values[:,8]\n",
    "age=application_pd.values[:,2]\n",
    "age_read=age[result==1]\n",
    "age_unread=age[result==0]\n",
    "\n",
    "plt.hist(age_unread,bins=bins_num,facecolor='blue', alpha=0.5)\n",
    "plt.hist(age_read,bins=bins_num,facecolor='green', alpha=0.8)\n"
   ]
  },
  {
   "cell_type": "markdown",
   "metadata": {},
   "source": [
    "read : green"
   ]
  },
  {
   "cell_type": "code",
   "execution_count": 7,
   "metadata": {
    "collapsed": false
   },
   "outputs": [
    {
     "data": {
      "text/plain": [
       "(array([  79.,  550.,  539.,  140.,   86.,   82.,  139.,  206.,  193.,\n",
       "         139.,  161.,  226.,  194.,  131.,   71.,  112.,   91.,   87.,\n",
       "          36.,   15.]),\n",
       " array([ 38. ,  40.8,  43.6,  46.4,  49.2,  52. ,  54.8,  57.6,  60.4,\n",
       "         63.2,  66. ,  68.8,  71.6,  74.4,  77.2,  80. ,  82.8,  85.6,\n",
       "         88.4,  91.2,  94. ]),\n",
       " <a list of 20 Patch objects>)"
      ]
     },
     "execution_count": 7,
     "metadata": {},
     "output_type": "execute_result"
    },
    {
     "data": {
      "image/png": "[encoded data removed]",
      "text/plain": [
       "<matplotlib.figure.Figure at 0x112aead50>"
      ]
     },
     "metadata": {},
     "output_type": "display_data"
    }
   ],
   "source": [
    "plt.hist(age,bins=bins_num,facecolor='green', alpha=0.8)"
   ]
  }
 ],
 "metadata": {
  "kernelspec": {
   "display_name": "Python 2",
   "language": "python",
   "name": "python2"
  },
  "language_info": {
   "codemirror_mode": {
    "name": "ipython",
    "version": 2
   },
   "file_extension": ".py",
   "mimetype": "text/x-python",
   "name": "python",
   "nbconvert_exporter": "python",
   "pygments_lexer": "ipython2",
   "version": "2.7.9"
  }
 },
 "nbformat": 4,
 "nbformat_minor": 0
}
