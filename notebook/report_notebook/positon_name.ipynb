{
 "cells": [
  {
   "cell_type": "code",
   "execution_count": 39,
   "metadata": {
    "collapsed": false
   },
   "outputs": [
    {
     "name": "stdout",
     "output_type": "stream",
     "text": [
      "Populating the interactive namespace from numpy and matplotlib\n"
     ]
    }
   ],
   "source": [
    "%pylab inline\n",
    "\n",
    "\n",
    "import pandas as pd\n",
    "import numpy as np\n",
    "import matplotlib.pyplot as plt\n",
    "import json \n",
    "\n",
    "from datetime import date\n",
    "import datetime\n",
    "import time\n",
    "\n",
    "%run moudle/pre_process\n",
    "%run moudle/segment\n",
    "\n",
    "import seaborn as sns\n",
    "sns.set_palette('deep', desat=.6)\n",
    "sns.set_context(rc={'figure.figsize': (8, 5) } )"
   ]
  },
  {
   "cell_type": "markdown",
   "metadata": {},
   "source": [
    "read from applications.json"
   ]
  },
  {
   "cell_type": "code",
   "execution_count": 40,
   "metadata": {
    "collapsed": false
   },
   "outputs": [],
   "source": [
    "src_data=open(\"data/position.txt\")\n",
    "corpus=src_data.read().split('\\n')"
   ]
  },
  {
   "cell_type": "code",
   "execution_count": 41,
   "metadata": {
    "collapsed": false
   },
   "outputs": [],
   "source": [
    "def job_clean(name):\n",
    "    if name:\n",
    "        if len(name)>10:\n",
    "            return 'trash'\n",
    "        if u'专场' in name:\n",
    "            return \"fair\"\n",
    "        if u'管理培训生' in name:\n",
    "            return u\"管培生\"       \n",
    "        new_name=name.split(\"-\")[0]  \n",
    "        new_name=new_name.split(u\"、\")[0]  \n",
    "        new_name=new_name.split(u\"丨\")[0]        \n",
    "        new_name=new_name.split(u\"（\")[0] \n",
    "        new_name=new_name.split(u\"/\")[0] \n",
    "\n",
    "        return new_name\n",
    "    else:\n",
    "        return \n"
   ]
  },
  {
   "cell_type": "code",
   "execution_count": 3,
   "metadata": {
    "collapsed": false,
    "scrolled": false
   },
   "outputs": [
    {
     "ename": "NameError",
     "evalue": "name 'corpus' is not defined",
     "output_type": "error",
     "traceback": [
      "\u001b[0;31m---------------------------------------------------------------------------\u001b[0m",
      "\u001b[0;31mNameError\u001b[0m                                 Traceback (most recent call last)",
      "\u001b[0;32m<ipython-input-3-834bc3d065bd>\u001b[0m in \u001b[0;36m<module>\u001b[0;34m()\u001b[0m\n\u001b[1;32m      3\u001b[0m \u001b[0mposition_num\u001b[0m\u001b[0;34m=\u001b[0m\u001b[0;36m10000\u001b[0m\u001b[0;34m\u001b[0m\u001b[0m\n\u001b[1;32m      4\u001b[0m \u001b[0mposition_list\u001b[0m\u001b[0;34m=\u001b[0m\u001b[0;34m[\u001b[0m\u001b[0;34m]\u001b[0m\u001b[0;34m\u001b[0m\u001b[0m\n\u001b[0;32m----> 5\u001b[0;31m \u001b[0;32mfor\u001b[0m \u001b[0mitem\u001b[0m \u001b[0;32min\u001b[0m \u001b[0mcorpus\u001b[0m\u001b[0;34m[\u001b[0m\u001b[0;34m:\u001b[0m\u001b[0mposition_num\u001b[0m\u001b[0;34m]\u001b[0m\u001b[0;34m:\u001b[0m\u001b[0;34m\u001b[0m\u001b[0m\n\u001b[0m\u001b[1;32m      6\u001b[0m     \u001b[0mposition\u001b[0m\u001b[0;34m=\u001b[0m\u001b[0mposition_vec_all\u001b[0m\u001b[0;34m(\u001b[0m\u001b[0mitem\u001b[0m\u001b[0;34m)\u001b[0m\u001b[0;34m\u001b[0m\u001b[0m\n\u001b[1;32m      7\u001b[0m     \u001b[0;32mif\u001b[0m \u001b[0mposition\u001b[0m\u001b[0;34m:\u001b[0m\u001b[0;34m\u001b[0m\u001b[0m\n",
      "\u001b[0;31mNameError\u001b[0m: name 'corpus' is not defined"
     ]
    }
   ],
   "source": [
    "name_list=[]\n",
    "type_list=[]\n",
    "position_num=10000\n",
    "position_list=[]            \n",
    "for item in corpus[:position_num]:\n",
    "    position=position_vec_all(item)\n",
    "    if position:\n",
    "        position_list.append(position)\n"
   ]
  },
  {
   "cell_type": "code",
   "execution_count": 2,
   "metadata": {
    "collapsed": false
   },
   "outputs": [
    {
     "ename": "NameError",
     "evalue": "name 'pd' is not defined",
     "output_type": "error",
     "traceback": [
      "\u001b[0;31m---------------------------------------------------------------------------\u001b[0m",
      "\u001b[0;31mNameError\u001b[0m                                 Traceback (most recent call last)",
      "\u001b[0;32m<ipython-input-2-e146db33441e>\u001b[0m in \u001b[0;36m<module>\u001b[0;34m()\u001b[0m\n\u001b[1;32m      1\u001b[0m \u001b[0mname_list\u001b[0m\u001b[0;34m=\u001b[0m\u001b[0;34m[\u001b[0m\u001b[0;34m]\u001b[0m\u001b[0;34m\u001b[0m\u001b[0m\n\u001b[0;32m----> 2\u001b[0;31m \u001b[0mjob_df\u001b[0m\u001b[0;34m=\u001b[0m\u001b[0mpd\u001b[0m\u001b[0;34m.\u001b[0m\u001b[0mDataFrame\u001b[0m\u001b[0;34m(\u001b[0m\u001b[0mposition_list\u001b[0m\u001b[0;34m)\u001b[0m\u001b[0;34m\u001b[0m\u001b[0m\n\u001b[0m\u001b[1;32m      3\u001b[0m \u001b[0mjob_df\u001b[0m\u001b[0;34m=\u001b[0m\u001b[0mjob_df\u001b[0m\u001b[0;34m.\u001b[0m\u001b[0mdrop\u001b[0m\u001b[0;34m(\u001b[0m\u001b[0;36m0\u001b[0m\u001b[0;34m,\u001b[0m\u001b[0maxis\u001b[0m\u001b[0;34m=\u001b[0m\u001b[0;36m1\u001b[0m\u001b[0;34m)\u001b[0m\u001b[0;34m\u001b[0m\u001b[0m\n\u001b[1;32m      4\u001b[0m \u001b[0mjob_df\u001b[0m\u001b[0;34m=\u001b[0m\u001b[0mjob_df\u001b[0m\u001b[0;34m.\u001b[0m\u001b[0mdrop\u001b[0m\u001b[0;34m(\u001b[0m\u001b[0;36m3\u001b[0m\u001b[0;34m,\u001b[0m\u001b[0maxis\u001b[0m\u001b[0;34m=\u001b[0m\u001b[0;36m1\u001b[0m\u001b[0;34m)\u001b[0m\u001b[0;34m\u001b[0m\u001b[0m\n\u001b[1;32m      5\u001b[0m \u001b[0mjob_df\u001b[0m\u001b[0;34m\u001b[0m\u001b[0m\n",
      "\u001b[0;31mNameError\u001b[0m: name 'pd' is not defined"
     ]
    }
   ],
   "source": [
    "\n",
    "job_df=pd.DataFrame(position_list)\n",
    "job_df=job_df.drop(0,axis=1)\n",
    "job_df=job_df.drop(3,axis=1)\n",
    "job_df"
   ]
  },
  {
   "cell_type": "code",
   "execution_count": 100,
   "metadata": {
    "collapsed": false
   },
   "outputs": [],
   "source": [
    "\n",
    "name_list=job_df.loc[(job_df[5]==u'全职') & (job_df[2]==u'财富管理') ][1].values\n",
    "name_list=list(name_list)"
   ]
  },
  {
   "cell_type": "code",
   "execution_count": 101,
   "metadata": {
    "collapsed": false
   },
   "outputs": [
    {
     "name": "stdout",
     "output_type": "stream",
     "text": [
      "投资\n",
      "专员\n",
      "理财\n",
      "交易员\n",
      "项目经理\n",
      "客户经理\n",
      "法务\n",
      "销售\n",
      "会计\n",
      "信托\n",
      "财务\n",
      "业务经理\n",
      "工程师\n",
      "营销\n",
      "量化\n",
      "融资\n",
      "规划师\n",
      "理财师\n",
      "策划\n",
      "副总经理\n",
      "行政\n",
      "三板\n",
      "分析员\n",
      "财务经理\n",
      "投行\n",
      "投融资\n",
      "客服\n",
      "区域经理\n",
      "股权\n",
      "管培生\n"
     ]
    }
   ],
   "source": [
    "tags=name_tag(name_list,K=30)\n",
    "for tag in tags:\n",
    "    print tag"
   ]
  },
  {
   "cell_type": "code",
   "execution_count": 127,
   "metadata": {
    "collapsed": false
   },
   "outputs": [
    {
     "name": "stdout",
     "output_type": "stream",
     "text": [
      "50\n",
      "48\n"
     ]
    }
   ],
   "source": [
    "\n",
    "stop_words=u\"实习生|实习|资深|专员|暑期|团队|高级|行业|执行|总裁|初级|经理助理|助理|intern\"\n",
    "\n",
    "tags=name_tag(name_list,K=50)\n",
    "print len(tags)\n",
    "for word in stop_words.split(\"|\"):\n",
    "    if word in tags:\n",
    "        tags.remove(word)\n",
    "        \n",
    "\n",
    "print len(tags)"
   ]
  },
  {
   "cell_type": "code",
   "execution_count": 1,
   "metadata": {
    "collapsed": false
   },
   "outputs": [
    {
     "ename": "NameError",
     "evalue": "name 'name_list' is not defined",
     "output_type": "error",
     "traceback": [
      "\u001b[0;31m---------------------------------------------------------------------------\u001b[0m",
      "\u001b[0;31mNameError\u001b[0m                                 Traceback (most recent call last)",
      "\u001b[0;32m<ipython-input-1-70b539d53caf>\u001b[0m in \u001b[0;36m<module>\u001b[0;34m()\u001b[0m\n\u001b[1;32m      3\u001b[0m \u001b[0;34m\u001b[0m\u001b[0m\n\u001b[1;32m      4\u001b[0m \u001b[0mname_taged\u001b[0m\u001b[0;34m=\u001b[0m\u001b[0;34m{\u001b[0m\u001b[0;34m}\u001b[0m\u001b[0;34m\u001b[0m\u001b[0m\n\u001b[0;32m----> 5\u001b[0;31m \u001b[0;32mfor\u001b[0m \u001b[0mapp_id\u001b[0m\u001b[0;34m,\u001b[0m\u001b[0mname\u001b[0m \u001b[0;32min\u001b[0m \u001b[0menumerate\u001b[0m\u001b[0;34m(\u001b[0m\u001b[0mname_list\u001b[0m\u001b[0;34m)\u001b[0m\u001b[0;34m:\u001b[0m\u001b[0;34m\u001b[0m\u001b[0m\n\u001b[0m\u001b[1;32m      6\u001b[0m     \u001b[0;32mfor\u001b[0m \u001b[0midx\u001b[0m\u001b[0;34m,\u001b[0m\u001b[0mtag\u001b[0m \u001b[0;32min\u001b[0m  \u001b[0menumerate\u001b[0m\u001b[0;34m(\u001b[0m\u001b[0mtags\u001b[0m\u001b[0;34m)\u001b[0m\u001b[0;34m:\u001b[0m\u001b[0;34m\u001b[0m\u001b[0m\n\u001b[1;32m      7\u001b[0m         \u001b[0;32mif\u001b[0m \u001b[0mtag\u001b[0m \u001b[0;32min\u001b[0m \u001b[0mname\u001b[0m\u001b[0;34m:\u001b[0m\u001b[0;34m\u001b[0m\u001b[0m\n",
      "\u001b[0;31mNameError\u001b[0m: name 'name_list' is not defined"
     ]
    }
   ],
   "source": [
    "\n",
    "\n",
    "\n",
    "name_taged={}\n",
    "for app_id,name in enumerate(name_list):\n",
    "    for idx,tag in  enumerate(tags):\n",
    "        if tag in name:\n",
    "            name_taged[app_id]=idx\n",
    "    if not app_id in name_taged:\n",
    "        print name\n",
    "        name_taged[app_id]=-1\n",
    "\n",
    "   \n",
    "print len(name_list)\n",
    "print len(name_taged)\n",
    "plt.hist(name_taged.values(),bins=28,facecolor='blue', alpha=0.5)"
   ]
  },
  {
   "cell_type": "code",
   "execution_count": 129,
   "metadata": {
    "collapsed": false
   },
   "outputs": [
    {
     "name": "stdout",
     "output_type": "stream",
     "text": [
      "0 投资\n",
      "1 理财\n",
      "2 交易员\n",
      "3 项目经理\n",
      "4 客户经理\n",
      "5 法务\n",
      "6 销售\n",
      "7 会计\n",
      "8 信托\n",
      "9 财务\n",
      "10 业务经理\n",
      "11 工程师\n",
      "12 营销\n",
      "13 量化\n",
      "14 融资\n",
      "15 规划师\n",
      "16 理财师\n",
      "17 策划\n",
      "18 副总经理\n",
      "19 行政\n",
      "20 三板\n",
      "21 分析员\n",
      "22 财务经理\n",
      "23 投行\n",
      "24 投融资\n",
      "25 客服\n",
      "26 区域经理\n",
      "27 股权\n",
      "28 管培生\n",
      "29 行政助理\n",
      "30 并购\n",
      "31 管理部\n",
      "32 P2P\n",
      "33 出纳\n",
      "34 风险管理\n",
      "35 资产\n",
      "36 股票\n",
      "37 证券\n",
      "38 营销策划\n",
      "39 策略\n",
      "40 Associate\n",
      "41 讲师\n",
      "42 债券\n",
      "43 前台\n",
      "44 风险\n",
      "45 核算\n",
      "46 部门经理\n",
      "47 投后\n"
     ]
    }
   ],
   "source": [
    "\n",
    "for idx,tag in enumerate(tags):\n",
    "    print idx,tag\n"
   ]
  },
  {
   "cell_type": "code",
   "execution_count": null,
   "metadata": {
    "collapsed": true
   },
   "outputs": [],
   "source": []
  }
 ],
 "metadata": {
  "kernelspec": {
   "display_name": "Python 2",
   "language": "python",
   "name": "python2"
  },
  "language_info": {
   "codemirror_mode": {
    "name": "ipython",
    "version": 2
   },
   "file_extension": ".py",
   "mimetype": "text/x-python",
   "name": "python",
   "nbconvert_exporter": "python",
   "pygments_lexer": "ipython2",
   "version": "2.7.9"
  }
 },
 "nbformat": 4,
 "nbformat_minor": 0
}
