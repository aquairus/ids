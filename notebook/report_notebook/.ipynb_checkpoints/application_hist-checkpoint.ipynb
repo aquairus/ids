{
 "cells": [
  {
   "cell_type": "code",
   "execution_count": 2,
   "metadata": {
    "collapsed": false
   },
   "outputs": [
    {
     "name": "stdout",
     "output_type": "stream",
     "text": [
      "Populating the interactive namespace from numpy and matplotlib\n"
     ]
    },
    {
     "ename": "ValueError",
     "evalue": "Attempted relative import in non-package",
     "output_type": "error",
     "traceback": [
      "\u001b[0;31m---------------------------------------------------------------------------\u001b[0m",
      "\u001b[0;31mValueError\u001b[0m                                Traceback (most recent call last)",
      "\u001b[0;32m<ipython-input-2-399e91b42baa>\u001b[0m in \u001b[0;36m<module>\u001b[0;34m()\u001b[0m\n\u001b[1;32m      8\u001b[0m \u001b[0;32mimport\u001b[0m \u001b[0mdatetime\u001b[0m\u001b[0;34m\u001b[0m\u001b[0m\n\u001b[1;32m      9\u001b[0m \u001b[0;32mimport\u001b[0m \u001b[0mtime\u001b[0m\u001b[0;34m\u001b[0m\u001b[0m\n\u001b[0;32m---> 10\u001b[0;31m \u001b[0;32mfrom\u001b[0m \u001b[0;34m.\u001b[0m\u001b[0mmoudle\u001b[0m\u001b[0;34m.\u001b[0m\u001b[0mpre_process\u001b[0m \u001b[0;32mimport\u001b[0m \u001b[0;34m*\u001b[0m\u001b[0;34m\u001b[0m\u001b[0m\n\u001b[0m\u001b[1;32m     11\u001b[0m \u001b[0;34m\u001b[0m\u001b[0m\n\u001b[1;32m     12\u001b[0m \u001b[0;32mfrom\u001b[0m \u001b[0;34m.\u001b[0m\u001b[0mmoudle\u001b[0m\u001b[0;34m.\u001b[0m\u001b[0msegment\u001b[0m \u001b[0;32mimport\u001b[0m\u001b[0;34m*\u001b[0m\u001b[0;34m\u001b[0m\u001b[0m\n",
      "\u001b[0;31mValueError\u001b[0m: Attempted relative import in non-package"
     ]
    }
   ],
   "source": [
    "%pylab inline\n",
    "import pandas as pd\n",
    "import numpy as np\n",
    "import matplotlib.pyplot as plt\n",
    "import json \n",
    "\n",
    "from datetime import date\n",
    "import datetime\n",
    "import time\n",
    "from pre_process import *\n",
    "\n",
    "from segment import*\n",
    "\n",
    "\n",
    "\n",
    "\n",
    "\n",
    "import seaborn as sns\n",
    "sns.set_palette('deep', desat=.6)\n",
    "sns.set_context(rc={'figure.figsize': (8, 5) } )\n",
    "src_data=open(\"applications.json\")\n",
    "corpus=src_data.read().replace('}{', '}|{').split('|')\n",
    "\n",
    "\n",
    "\n",
    "application_list=[]\n",
    "\n",
    "\n",
    "for item in corpus[:-1]:\n",
    "    \n",
    "    vec=application_vec(item)\n",
    "    if vec:\n",
    "        application_list.append(vec)\n",
    "\n",
    "application_pd=pd.DataFrame(application_list)\n",
    "def map_city(city):\n",
    "    if len(city) >2:\n",
    "        return city[:2]\n",
    "    else:\n",
    "        return city   \n",
    "def map_age(age):\n",
    "    if age:\n",
    "        return 1\n",
    "    return 0\n",
    "\n",
    "\n"
   ]
  },
  {
   "cell_type": "code",
   "execution_count": 2,
   "metadata": {
    "collapsed": true
   },
   "outputs": [],
   "source": [
    "def map_status(status):\n",
    "    if status in ['rejected']:#'read',,'interviewed'#best:'invited'\n",
    "        return 1\n",
    "    else:\n",
    "        return 0\n",
    "\n",
    "\n",
    "\n",
    "application_pd=pd.DataFrame(application_list)\n",
    "application_pd[9]=application_pd[9].map(lambda x:map_status(x))\n",
    "application_pd[0] = application_pd[0].map( {u'男': 0, u'女': 1} )\n",
    "# application_pd[2] = application_pd[2].map( lambda x:x/5)\n",
    "application_pd[3] = application_pd[3].map( lambda x:x/5)\n",
    "application_pd[1]=application_pd[1].map(lambda x:map_age(x))\n",
    "application_pd=application_pd.drop(4,axis=1)\n",
    "application_pd=application_pd.dropna()\n",
    "\n"
   ]
  },
  {
   "cell_type": "code",
   "execution_count": 3,
   "metadata": {
    "collapsed": false
   },
   "outputs": [
    {
     "data": {
      "text/plain": [
       "(array([  44.,  312.,  300.,   84.,   56.,   47.,  100.,  120.,  106.,\n",
       "         101.,   95.,  160.,  115.,   70.,   33.,   54.,   20.,   27.,\n",
       "           4.,    1.]),\n",
       " array([ 38. ,  40.8,  43.6,  46.4,  49.2,  52. ,  54.8,  57.6,  60.4,\n",
       "         63.2,  66. ,  68.8,  71.6,  74.4,  77.2,  80. ,  82.8,  85.6,\n",
       "         88.4,  91.2,  94. ]),\n",
       " <a list of 20 Patch objects>)"
      ]
     },
     "execution_count": 3,
     "metadata": {},
     "output_type": "execute_result"
    },
    {
     "data": {
      "image/png": "[encoded data removed]",
      "text/plain": [
       "<matplotlib.figure.Figure at 0x1024355d0>"
      ]
     },
     "metadata": {},
     "output_type": "display_data"
    }
   ],
   "source": [
    "\n",
    "bins_num=20\n",
    "\n",
    "result=application_pd.values[:,8]\n",
    "age=application_pd.values[:,2]\n",
    "age_rejected=age[result==1]\n",
    "age_unrejected=age[result==0]\n",
    "\n",
    "plt.hist(age_unrejected,bins=bins_num,facecolor='blue', alpha=0.5)\n",
    "plt.hist(age_rejected,bins=bins_num,facecolor='green', alpha=0.8)\n",
    "\n"
   ]
  },
  {
   "cell_type": "markdown",
   "metadata": {},
   "source": [
    "blue: un_rejected"
   ]
  },
  {
   "cell_type": "code",
   "execution_count": 4,
   "metadata": {
    "collapsed": false
   },
   "outputs": [
    {
     "data": {
      "text/plain": [
       "(array([  2.,  20.,  25.,   6.,   4.,   2.,   6.,   6.,  10.,   6.,  12.,\n",
       "          6.,   9.,  12.,  12.,   9.,  36.,  43.,  24.,   6.]),\n",
       " array([ 38. ,  40.8,  43.6,  46.4,  49.2,  52. ,  54.8,  57.6,  60.4,\n",
       "         63.2,  66. ,  68.8,  71.6,  74.4,  77.2,  80. ,  82.8,  85.6,\n",
       "         88.4,  91.2,  94. ]),\n",
       " <a list of 20 Patch objects>)"
      ]
     },
     "execution_count": 4,
     "metadata": {},
     "output_type": "execute_result"
    },
    {
     "data": {
      "image/png": "[encoded data removed]",
      "text/plain": [
       "<matplotlib.figure.Figure at 0x1049c85d0>"
      ]
     },
     "metadata": {},
     "output_type": "display_data"
    }
   ],
   "source": [
    "def map_status(status):\n",
    "    if status in ['invited']:#'read',,'interviewed'#best:'invited'\n",
    "        return 1\n",
    "    else:\n",
    "        return 0\n",
    "\n",
    "\n",
    "\n",
    "application_pd=pd.DataFrame(application_list)\n",
    "application_pd[9]=application_pd[9].map(lambda x:map_status(x))\n",
    "application_pd[0] = application_pd[0].map( {u'男': 0, u'女': 1} )\n",
    "# application_pd[2] = application_pd[2].map( lambda x:x/5)\n",
    "application_pd[3] = application_pd[3].map( lambda x:x/5)\n",
    "application_pd[1]=application_pd[1].map(lambda x:map_age(x))\n",
    "application_pd=application_pd.drop(4,axis=1)\n",
    "application_pd=application_pd.dropna()\n",
    "\n",
    "\n",
    "\n",
    "result=application_pd.values[:,8]\n",
    "age=application_pd.values[:,2]\n",
    "age_invited=age[result==1]\n",
    "age_uninvited=age[result==0]\n",
    "\n",
    "plt.hist(age_uninvited,bins=bins_num,facecolor='blue', alpha=0.5)\n",
    "plt.hist(age_invited,bins=bins_num,facecolor='green', alpha=0.8)"
   ]
  },
  {
   "cell_type": "markdown",
   "metadata": {},
   "source": [
    "green: invited"
   ]
  },
  {
   "cell_type": "code",
   "execution_count": 5,
   "metadata": {
    "collapsed": false
   },
   "outputs": [
    {
     "data": {
      "text/plain": [
       "(array([  29.,  192.,  196.,   46.,   25.,   30.,   29.,   72.,   72.,\n",
       "          29.,   52.,   58.,   64.,   45.,   20.,   29.,   21.,   13.,\n",
       "           3.,    3.]),\n",
       " array([ 38. ,  40.8,  43.6,  46.4,  49.2,  52. ,  54.8,  57.6,  60.4,\n",
       "         63.2,  66. ,  68.8,  71.6,  74.4,  77.2,  80. ,  82.8,  85.6,\n",
       "         88.4,  91.2,  94. ]),\n",
       " <a list of 20 Patch objects>)"
      ]
     },
     "execution_count": 5,
     "metadata": {},
     "output_type": "execute_result"
    },
    {
     "data": {
      "image/png": "[encoded data removed]",
      "text/plain": [
       "<matplotlib.figure.Figure at 0x10aa06a10>"
      ]
     },
     "metadata": {},
     "output_type": "display_data"
    }
   ],
   "source": [
    "# bins_num=12\n",
    "def map_status(status):\n",
    "    if status in [\"read\"]:#'read',,'interviewed'#best:'invited'\n",
    "        return 1\n",
    "    else:\n",
    "        return 0\n",
    "\n",
    "\n",
    "\n",
    "application_pd=pd.DataFrame(application_list)\n",
    "application_pd[9]=application_pd[9].map(lambda x:map_status(x))\n",
    "application_pd[0] = application_pd[0].map( {u'男': 0, u'女': 1} )\n",
    "# application_pd[2] = application_pd[2].map( lambda x:x/5)\n",
    "application_pd[3] = application_pd[3].map( lambda x:x/5)\n",
    "application_pd[1]=application_pd[1].map(lambda x:map_age(x))\n",
    "application_pd=application_pd.drop(4,axis=1)\n",
    "application_pd=application_pd.dropna()\n",
    "\n",
    "\n",
    "\n",
    "result=application_pd.values[:,8]\n",
    "age=application_pd.values[:,2]\n",
    "age_read=age[result==1]\n",
    "age_unread=age[result==0]\n",
    "\n",
    "plt.hist(age_unread,bins=bins_num,facecolor='blue', alpha=0.5)\n",
    "plt.hist(age_read,bins=bins_num,facecolor='green', alpha=0.8)\n"
   ]
  },
  {
   "cell_type": "markdown",
   "metadata": {},
   "source": [
    "read : green"
   ]
  },
  {
   "cell_type": "code",
   "execution_count": 6,
   "metadata": {
    "collapsed": false
   },
   "outputs": [
    {
     "data": {
      "text/plain": [
       "(array([  79.,  550.,  539.,  140.,   86.,   82.,  139.,  206.,  193.,\n",
       "         139.,  161.,  226.,  194.,  131.,   71.,  112.,   91.,   87.,\n",
       "          36.,   15.]),\n",
       " array([ 38. ,  40.8,  43.6,  46.4,  49.2,  52. ,  54.8,  57.6,  60.4,\n",
       "         63.2,  66. ,  68.8,  71.6,  74.4,  77.2,  80. ,  82.8,  85.6,\n",
       "         88.4,  91.2,  94. ]),\n",
       " <a list of 20 Patch objects>)"
      ]
     },
     "execution_count": 6,
     "metadata": {},
     "output_type": "execute_result"
    },
    {
     "data": {
      "image/png": "[encoded data removed]",
      "text/plain": [
       "<matplotlib.figure.Figure at 0x10ac96510>"
      ]
     },
     "metadata": {},
     "output_type": "display_data"
    }
   ],
   "source": [
    "plt.hist(age,bins=bins_num,facecolor='green', alpha=0.8)"
   ]
  },
  {
   "cell_type": "code",
   "execution_count": null,
   "metadata": {
    "collapsed": true
   },
   "outputs": [],
   "source": []
  },
  {
   "cell_type": "code",
   "execution_count": null,
   "metadata": {
    "collapsed": true
   },
   "outputs": [],
   "source": []
  }
 ],
 "metadata": {
  "kernelspec": {
   "display_name": "Python 2",
   "language": "python",
   "name": "python2"
  },
  "language_info": {
   "codemirror_mode": {
    "name": "ipython",
    "version": 2
   },
   "file_extension": ".py",
   "mimetype": "text/x-python",
   "name": "python",
   "nbconvert_exporter": "python",
   "pygments_lexer": "ipython2",
   "version": "2.7.9"
  }
 },
 "nbformat": 4,
 "nbformat_minor": 0
}
